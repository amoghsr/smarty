{
 "nbformat": 4,
 "nbformat_minor": 2,
 "metadata": {
  "language_info": {
   "name": "python",
   "codemirror_mode": {
    "name": "ipython",
    "version": 3
   },
   "version": "3.7.1-final"
  },
  "orig_nbformat": 2,
  "file_extension": ".py",
  "mimetype": "text/x-python",
  "name": "python",
  "npconvert_exporter": "python",
  "pygments_lexer": "ipython3",
  "version": 3,
  "kernelspec": {
   "name": "python37132bit9bc263cff8af4952a7bac8d979c6a49a",
   "display_name": "Python 3.7.1 32-bit"
  }
 },
 "cells": [
  {
   "cell_type": "code",
   "execution_count": 2,
   "metadata": {},
   "outputs": [],
   "source": [
    "import warnings\n",
    "warnings.filterwarnings('ignore')\n",
    "\n",
    "# Importing all required packages\n",
    "import numpy as np\n",
    "import pandas as pd\n",
    "\n",
    "# Data viz lib\n",
    "import matplotlib.pyplot as plt\n",
    "import seaborn as sns\n",
    "%matplotlib inline\n",
    "from matplotlib.pyplot import xticks"
   ]
  },
  {
   "cell_type": "code",
   "execution_count": 3,
   "metadata": {},
   "outputs": [
    {
     "data": {
      "text/html": "<div>\n<style scoped>\n    .dataframe tbody tr th:only-of-type {\n        vertical-align: middle;\n    }\n\n    .dataframe tbody tr th {\n        vertical-align: top;\n    }\n\n    .dataframe thead th {\n        text-align: right;\n    }\n</style>\n<table border=\"1\" class=\"dataframe\">\n  <thead>\n    <tr style=\"text-align: right;\">\n      <th></th>\n      <th>start_time</th>\n      <th>end_time</th>\n      <th>routine_info_1</th>\n      <th>routine_info_2</th>\n      <th>routine_info_3</th>\n      <th>routine_info_4</th>\n      <th>routine_info_5</th>\n    </tr>\n  </thead>\n  <tbody>\n    <tr>\n      <th>0</th>\n      <td>9</td>\n      <td>10</td>\n      <td>Bedroom AC ON 18°C Speaker OFF Lamp OFF</td>\n      <td>Living_Room TV OFF</td>\n      <td>NaN</td>\n      <td>NaN</td>\n      <td>NaN</td>\n    </tr>\n    <tr>\n      <th>2</th>\n      <td>17</td>\n      <td>19</td>\n      <td>Kitchen Lamp OFF Speaker ON 95% TV OFF</td>\n      <td>Living_Room Lamp OFF AC ON 26°C TV OFF Speaker...</td>\n      <td>NaN</td>\n      <td>NaN</td>\n      <td>NaN</td>\n    </tr>\n    <tr>\n      <th>3</th>\n      <td>8</td>\n      <td>10</td>\n      <td>Bedroom Lamp ON Green 40% Faucet OFF</td>\n      <td>Playroom Lamp ON Purple 88%</td>\n      <td>Kitchen AC ON 24°C Lamp ON Green 78% Speaker OFF</td>\n      <td>NaN</td>\n      <td>NaN</td>\n    </tr>\n    <tr>\n      <th>5</th>\n      <td>17</td>\n      <td>19</td>\n      <td>Kitchen Lamp OFF TV ON 53% AC ON 22°C</td>\n      <td>Playroom AC OFF TV OFF Lamp ON Green 55%</td>\n      <td>NaN</td>\n      <td>NaN</td>\n      <td>NaN</td>\n    </tr>\n    <tr>\n      <th>11</th>\n      <td>6</td>\n      <td>7</td>\n      <td>Bathroom Lamp ON Blue 65% Speaker ON 60% Fauce...</td>\n      <td>Bedroom AC ON 24°C Lamp ON Blue 74%</td>\n      <td>NaN</td>\n      <td>NaN</td>\n      <td>NaN</td>\n    </tr>\n  </tbody>\n</table>\n</div>",
      "text/plain": "    start_time  end_time                                     routine_info_1  \\\n0            9        10            Bedroom AC ON 18°C Speaker OFF Lamp OFF   \n2           17        19             Kitchen Lamp OFF Speaker ON 95% TV OFF   \n3            8        10               Bedroom Lamp ON Green 40% Faucet OFF   \n5           17        19              Kitchen Lamp OFF TV ON 53% AC ON 22°C   \n11           6         7  Bathroom Lamp ON Blue 65% Speaker ON 60% Fauce...   \n\n                                       routine_info_2  \\\n0                                  Living_Room TV OFF   \n2   Living_Room Lamp OFF AC ON 26°C TV OFF Speaker...   \n3                         Playroom Lamp ON Purple 88%   \n5            Playroom AC OFF TV OFF Lamp ON Green 55%   \n11                Bedroom AC ON 24°C Lamp ON Blue 74%   \n\n                                      routine_info_3 routine_info_4  \\\n0                                                NaN            NaN   \n2                                                NaN            NaN   \n3   Kitchen AC ON 24°C Lamp ON Green 78% Speaker OFF            NaN   \n5                                                NaN            NaN   \n11                                               NaN            NaN   \n\n    routine_info_5  \n0              NaN  \n2              NaN  \n3              NaN  \n5              NaN  \n11             NaN  "
     },
     "execution_count": 3,
     "metadata": {},
     "output_type": "execute_result"
    }
   ],
   "source": [
    "data = pd.read_csv('routines.csv')\n",
    "exclude_list = [\"Living_Room Exhaust_Fan\",\"Living_Room Water_Heater\", \"Living_Room Faucet\", \"Living_Room Refrigerator\", \"Living_Room Baby_Monitor\", \"Bedroom Exhaust_Fan\",\"Bedroom Water_Heater\", \"Bedroom Faucet\", \"Bedroom Refrigerator\", \"Bathroom Refrigerator\", \"Bathroom Baby_Monitor\", \"Bathroom AC\", \"Bathroom TV\", \"Bathroom Speaker\", \"Playroom Exhaust_Fan\", \"Playroom Faucet\", \"Playroom Refrigerator\",  \"Playroom Water_Heater\",  \"Kitchen Baby_Monitor\", \"Kitchen TV\", \"Kitchen Speaker\"]\n",
    "for i in range(5):\n",
    "    for j in exclude_list:\n",
    "        data = data[~data['routine_info_'+str(i+1)].astype(str).str.contains(j, na=False)]\n",
    "data.head()"
   ]
  },
  {
   "cell_type": "code",
   "execution_count": 4,
   "metadata": {},
   "outputs": [],
   "source": [
    "data['routine_data'] = data[data.columns[:]].apply(\n",
    "    lambda x: ','.join(x.dropna().astype(str)),\n",
    "    axis=1\n",
    ")"
   ]
  },
  {
   "cell_type": "code",
   "execution_count": 5,
   "metadata": {},
   "outputs": [
    {
     "data": {
      "text/html": "<div>\n<style scoped>\n    .dataframe tbody tr th:only-of-type {\n        vertical-align: middle;\n    }\n\n    .dataframe tbody tr th {\n        vertical-align: top;\n    }\n\n    .dataframe thead th {\n        text-align: right;\n    }\n</style>\n<table border=\"1\" class=\"dataframe\">\n  <thead>\n    <tr style=\"text-align: right;\">\n      <th></th>\n      <th>start_time</th>\n      <th>end_time</th>\n      <th>routine_data</th>\n    </tr>\n  </thead>\n  <tbody>\n    <tr>\n      <th>0</th>\n      <td>9</td>\n      <td>10</td>\n      <td>9,10,Bedroom AC ON 18°C Speaker OFF Lamp OFF,L...</td>\n    </tr>\n    <tr>\n      <th>2</th>\n      <td>17</td>\n      <td>19</td>\n      <td>17,19,Kitchen Lamp OFF Speaker ON 95% TV OFF,L...</td>\n    </tr>\n    <tr>\n      <th>3</th>\n      <td>8</td>\n      <td>10</td>\n      <td>8,10,Bedroom Lamp ON Green 40% Faucet OFF,Play...</td>\n    </tr>\n    <tr>\n      <th>5</th>\n      <td>17</td>\n      <td>19</td>\n      <td>17,19,Kitchen Lamp OFF TV ON 53% AC ON 22°C,Pl...</td>\n    </tr>\n    <tr>\n      <th>11</th>\n      <td>6</td>\n      <td>7</td>\n      <td>6,7,Bathroom Lamp ON Blue 65% Speaker ON 60% F...</td>\n    </tr>\n    <tr>\n      <th>13</th>\n      <td>19</td>\n      <td>21</td>\n      <td>19,21,Kitchen Faucet OFF</td>\n    </tr>\n    <tr>\n      <th>15</th>\n      <td>8</td>\n      <td>9</td>\n      <td>8,9,Kitchen AC ON 23°C</td>\n    </tr>\n    <tr>\n      <th>19</th>\n      <td>17</td>\n      <td>19</td>\n      <td>17,19,Living_Room Lamp ON Purple 73%</td>\n    </tr>\n    <tr>\n      <th>20</th>\n      <td>7</td>\n      <td>8</td>\n      <td>7,8,Bedroom Lamp ON Red 95% Faucet ON 10oz AC ...</td>\n    </tr>\n    <tr>\n      <th>26</th>\n      <td>20</td>\n      <td>21</td>\n      <td>20,21,Playroom TV OFF Speaker ON 69% AC ON 21°C</td>\n    </tr>\n    <tr>\n      <th>31</th>\n      <td>20</td>\n      <td>22</td>\n      <td>20,22,Living_Room TV ON 66% Lamp ON Purple 79%...</td>\n    </tr>\n    <tr>\n      <th>32</th>\n      <td>6</td>\n      <td>7</td>\n      <td>6,7,Bedroom Lamp OFF Faucet OFF,Kitchen AC OFF...</td>\n    </tr>\n    <tr>\n      <th>34</th>\n      <td>17</td>\n      <td>19</td>\n      <td>17,19,Kitchen Lamp OFF TV OFF,Living_Room Lamp...</td>\n    </tr>\n    <tr>\n      <th>35</th>\n      <td>8</td>\n      <td>10</td>\n      <td>8,10,Bathroom Lamp ON Violet 93%</td>\n    </tr>\n    <tr>\n      <th>36</th>\n      <td>15</td>\n      <td>17</td>\n      <td>15,17,Playroom TV OFF Lamp ON Green 99% AC ON ...</td>\n    </tr>\n    <tr>\n      <th>38</th>\n      <td>8</td>\n      <td>10</td>\n      <td>8,10,Playroom Lamp OFF Faucet OFF Speaker ON 76%</td>\n    </tr>\n    <tr>\n      <th>40</th>\n      <td>7</td>\n      <td>8</td>\n      <td>7,8,Playroom TV ON 64%,Kitchen Faucet ON 18oz ...</td>\n    </tr>\n    <tr>\n      <th>42</th>\n      <td>8</td>\n      <td>9</td>\n      <td>8,9,Kitchen AC ON 16°C Lamp ON Purple 57% Fauc...</td>\n    </tr>\n    <tr>\n      <th>43</th>\n      <td>9</td>\n      <td>11</td>\n      <td>9,11,Bedroom AC OFF</td>\n    </tr>\n    <tr>\n      <th>47</th>\n      <td>15</td>\n      <td>17</td>\n      <td>15,17,Living_Room Lamp ON Red 38% AC ON 17°C</td>\n    </tr>\n    <tr>\n      <th>49</th>\n      <td>9</td>\n      <td>10</td>\n      <td>9,10,Bathroom Faucet ON 11oz Lamp ON Purple 56...</td>\n    </tr>\n    <tr>\n      <th>50</th>\n      <td>17</td>\n      <td>18</td>\n      <td>17,18,Bedroom Speaker ON 34%,Playroom Lamp OFF...</td>\n    </tr>\n    <tr>\n      <th>52</th>\n      <td>17</td>\n      <td>18</td>\n      <td>17,18,Bedroom AC ON 25°C TV OFF Faucet ON 18oz</td>\n    </tr>\n    <tr>\n      <th>56</th>\n      <td>20</td>\n      <td>22</td>\n      <td>20,22,Living_Room AC ON 24°C,Playroom TV OFF</td>\n    </tr>\n    <tr>\n      <th>57</th>\n      <td>7</td>\n      <td>9</td>\n      <td>7,9,Playroom AC ON 18°C</td>\n    </tr>\n    <tr>\n      <th>59</th>\n      <td>16</td>\n      <td>18</td>\n      <td>16,18,Playroom Speaker ON 71% TV ON 68%</td>\n    </tr>\n    <tr>\n      <th>60</th>\n      <td>19</td>\n      <td>21</td>\n      <td>19,21,Living_Room AC OFF Faucet ON 4oz TV ON 4...</td>\n    </tr>\n    <tr>\n      <th>65</th>\n      <td>19</td>\n      <td>21</td>\n      <td>19,21,Bedroom Speaker ON 91%,Bathroom Lamp OFF...</td>\n    </tr>\n    <tr>\n      <th>67</th>\n      <td>17</td>\n      <td>18</td>\n      <td>17,18,Bathroom Faucet ON 17oz AC OFF</td>\n    </tr>\n    <tr>\n      <th>68</th>\n      <td>10</td>\n      <td>11</td>\n      <td>10,11,Bedroom Speaker ON 54%</td>\n    </tr>\n    <tr>\n      <th>71</th>\n      <td>15</td>\n      <td>16</td>\n      <td>15,16,Playroom Lamp ON Red 34%,Living_Room TV ...</td>\n    </tr>\n    <tr>\n      <th>73</th>\n      <td>9</td>\n      <td>10</td>\n      <td>9,10,Bathroom Faucet OFF Lamp OFF TV ON 36%,Be...</td>\n    </tr>\n    <tr>\n      <th>75</th>\n      <td>10</td>\n      <td>12</td>\n      <td>10,12,Bedroom TV OFF Faucet ON 17oz AC OFF</td>\n    </tr>\n    <tr>\n      <th>76</th>\n      <td>10</td>\n      <td>12</td>\n      <td>10,12,Bedroom AC ON 21°C</td>\n    </tr>\n    <tr>\n      <th>80</th>\n      <td>7</td>\n      <td>9</td>\n      <td>7,9,Kitchen Faucet ON 5oz AC OFF TV OFF</td>\n    </tr>\n    <tr>\n      <th>81</th>\n      <td>15</td>\n      <td>16</td>\n      <td>15,16,Living_Room AC ON 25°C,Kitchen Faucet ON...</td>\n    </tr>\n    <tr>\n      <th>82</th>\n      <td>5</td>\n      <td>6</td>\n      <td>5,6,Living_Room Lamp OFF Faucet ON 13oz TV OFF...</td>\n    </tr>\n    <tr>\n      <th>83</th>\n      <td>19</td>\n      <td>21</td>\n      <td>19,21,Living_Room AC OFF TV ON 32%</td>\n    </tr>\n    <tr>\n      <th>86</th>\n      <td>16</td>\n      <td>17</td>\n      <td>16,17,Living_Room TV ON 97%</td>\n    </tr>\n    <tr>\n      <th>88</th>\n      <td>18</td>\n      <td>19</td>\n      <td>18,19,Kitchen Lamp OFF,Playroom Lamp OFF AC ON...</td>\n    </tr>\n    <tr>\n      <th>89</th>\n      <td>9</td>\n      <td>10</td>\n      <td>9,10,Bathroom Lamp ON Blue 56%,Living_Room AC ...</td>\n    </tr>\n    <tr>\n      <th>91</th>\n      <td>9</td>\n      <td>11</td>\n      <td>9,11,Kitchen Lamp OFF,Living_Room TV OFF Fauce...</td>\n    </tr>\n    <tr>\n      <th>94</th>\n      <td>10</td>\n      <td>12</td>\n      <td>10,12,Playroom TV ON 45%,Bedroom Speaker ON 89%</td>\n    </tr>\n    <tr>\n      <th>95</th>\n      <td>17</td>\n      <td>18</td>\n      <td>17,18,Living_Room Lamp ON Green 37%</td>\n    </tr>\n    <tr>\n      <th>97</th>\n      <td>16</td>\n      <td>17</td>\n      <td>16,17,Playroom Speaker OFF Faucet OFF AC OFF L...</td>\n    </tr>\n    <tr>\n      <th>98</th>\n      <td>15</td>\n      <td>17</td>\n      <td>15,17,Kitchen Faucet OFF AC ON 23°C,Bedroom La...</td>\n    </tr>\n  </tbody>\n</table>\n</div>",
      "text/plain": "    start_time  end_time                                       routine_data\n0            9        10  9,10,Bedroom AC ON 18°C Speaker OFF Lamp OFF,L...\n2           17        19  17,19,Kitchen Lamp OFF Speaker ON 95% TV OFF,L...\n3            8        10  8,10,Bedroom Lamp ON Green 40% Faucet OFF,Play...\n5           17        19  17,19,Kitchen Lamp OFF TV ON 53% AC ON 22°C,Pl...\n11           6         7  6,7,Bathroom Lamp ON Blue 65% Speaker ON 60% F...\n13          19        21                           19,21,Kitchen Faucet OFF\n15           8         9                             8,9,Kitchen AC ON 23°C\n19          17        19               17,19,Living_Room Lamp ON Purple 73%\n20           7         8  7,8,Bedroom Lamp ON Red 95% Faucet ON 10oz AC ...\n26          20        21    20,21,Playroom TV OFF Speaker ON 69% AC ON 21°C\n31          20        22  20,22,Living_Room TV ON 66% Lamp ON Purple 79%...\n32           6         7  6,7,Bedroom Lamp OFF Faucet OFF,Kitchen AC OFF...\n34          17        19  17,19,Kitchen Lamp OFF TV OFF,Living_Room Lamp...\n35           8        10                   8,10,Bathroom Lamp ON Violet 93%\n36          15        17  15,17,Playroom TV OFF Lamp ON Green 99% AC ON ...\n38           8        10   8,10,Playroom Lamp OFF Faucet OFF Speaker ON 76%\n40           7         8  7,8,Playroom TV ON 64%,Kitchen Faucet ON 18oz ...\n42           8         9  8,9,Kitchen AC ON 16°C Lamp ON Purple 57% Fauc...\n43           9        11                                9,11,Bedroom AC OFF\n47          15        17       15,17,Living_Room Lamp ON Red 38% AC ON 17°C\n49           9        10  9,10,Bathroom Faucet ON 11oz Lamp ON Purple 56...\n50          17        18  17,18,Bedroom Speaker ON 34%,Playroom Lamp OFF...\n52          17        18     17,18,Bedroom AC ON 25°C TV OFF Faucet ON 18oz\n56          20        22       20,22,Living_Room AC ON 24°C,Playroom TV OFF\n57           7         9                            7,9,Playroom AC ON 18°C\n59          16        18            16,18,Playroom Speaker ON 71% TV ON 68%\n60          19        21  19,21,Living_Room AC OFF Faucet ON 4oz TV ON 4...\n65          19        21  19,21,Bedroom Speaker ON 91%,Bathroom Lamp OFF...\n67          17        18               17,18,Bathroom Faucet ON 17oz AC OFF\n68          10        11                       10,11,Bedroom Speaker ON 54%\n71          15        16  15,16,Playroom Lamp ON Red 34%,Living_Room TV ...\n73           9        10  9,10,Bathroom Faucet OFF Lamp OFF TV ON 36%,Be...\n75          10        12         10,12,Bedroom TV OFF Faucet ON 17oz AC OFF\n76          10        12                           10,12,Bedroom AC ON 21°C\n80           7         9            7,9,Kitchen Faucet ON 5oz AC OFF TV OFF\n81          15        16  15,16,Living_Room AC ON 25°C,Kitchen Faucet ON...\n82           5         6  5,6,Living_Room Lamp OFF Faucet ON 13oz TV OFF...\n83          19        21                 19,21,Living_Room AC OFF TV ON 32%\n86          16        17                        16,17,Living_Room TV ON 97%\n88          18        19  18,19,Kitchen Lamp OFF,Playroom Lamp OFF AC ON...\n89           9        10  9,10,Bathroom Lamp ON Blue 56%,Living_Room AC ...\n91           9        11  9,11,Kitchen Lamp OFF,Living_Room TV OFF Fauce...\n94          10        12    10,12,Playroom TV ON 45%,Bedroom Speaker ON 89%\n95          17        18                17,18,Living_Room Lamp ON Green 37%\n97          16        17  16,17,Playroom Speaker OFF Faucet OFF AC OFF L...\n98          15        17  15,17,Kitchen Faucet OFF AC ON 23°C,Bedroom La..."
     },
     "execution_count": 5,
     "metadata": {},
     "output_type": "execute_result"
    }
   ],
   "source": [
    "data = data.drop(['routine_info_1', 'routine_info_2','routine_info_3','routine_info_4','routine_info_5'], axis=1)\n",
    "data"
   ]
  },
  {
   "cell_type": "code",
   "execution_count": 6,
   "metadata": {},
   "outputs": [
    {
     "data": {
      "text/plain": "array([[ 4.,  4., 43.],\n       [ 8., 10., 16.],\n       [ 3.,  4., 36.],\n       [ 8., 10., 18.],\n       [ 1.,  1., 29.],\n       [10., 11., 22.],\n       [ 3.,  3., 39.],\n       [ 8., 10., 19.],\n       [ 2.,  2., 31.],\n       [11., 11., 25.],\n       [11., 12., 27.],\n       [ 1.,  1., 30.],\n       [ 8., 10., 17.],\n       [ 3.,  4., 35.],\n       [ 6.,  8.,  8.],\n       [ 3.,  4., 37.],\n       [ 2.,  2., 32.],\n       [ 3.,  3., 38.],\n       [ 4.,  5., 44.],\n       [ 6.,  8.,  7.],\n       [ 4.,  4., 41.],\n       [ 8.,  9., 14.],\n       [ 8.,  9., 13.],\n       [11., 12., 26.],\n       [ 2.,  3., 34.],\n       [ 7.,  9., 11.],\n       [10., 11., 23.],\n       [10., 11., 21.],\n       [ 8.,  9., 12.],\n       [ 5.,  5.,  0.],\n       [ 6.,  7.,  5.],\n       [ 4.,  4., 40.],\n       [ 5.,  6.,  2.],\n       [ 5.,  6.,  1.],\n       [ 2.,  3., 33.],\n       [ 6.,  7.,  4.],\n       [ 0.,  0., 28.],\n       [10., 11., 24.],\n       [ 7.,  8.,  9.],\n       [ 9., 10., 20.],\n       [ 4.,  4., 42.],\n       [ 4.,  5., 45.],\n       [ 5.,  6.,  3.],\n       [ 8.,  9., 15.],\n       [ 7.,  8., 10.],\n       [ 6.,  8.,  6.]])"
     },
     "execution_count": 6,
     "metadata": {},
     "output_type": "execute_result"
    }
   ],
   "source": [
    "from sklearn import preprocessing\n",
    "oe = preprocessing.OrdinalEncoder()\n",
    "data = oe.fit_transform(data)\n",
    "data"
   ]
  },
  {
   "cell_type": "code",
   "execution_count": 7,
   "metadata": {},
   "outputs": [],
   "source": [
    "from kmodes.kmodes import KModes"
   ]
  },
  {
   "cell_type": "code",
   "execution_count": 8,
   "metadata": {},
   "outputs": [
    {
     "name": "stdout",
     "output_type": "stream",
     "text": "Init: initializing centroids\nInit: initializing clusters\nStarting iterations...\nRun 1, iteration: 1/100, moves: 0, cost: 110.0\n"
    }
   ],
   "source": [
    "km_cao = KModes(n_clusters=2, init = \"Cao\", n_init = 1, verbose=1)\n",
    "fitClusters_cao = km_cao.fit_predict(data)"
   ]
  },
  {
   "cell_type": "code",
   "execution_count": 9,
   "metadata": {},
   "outputs": [
    {
     "data": {
      "text/plain": "array([0, 1, 0, 1, 0, 0, 0, 1, 0, 0, 0, 0, 1, 0, 0, 0, 0, 0, 0, 0, 0, 1,\n       1, 0, 0, 0, 0, 0, 1, 0, 0, 0, 0, 0, 0, 0, 0, 0, 0, 1, 0, 0, 0, 1,\n       0, 0], dtype=uint16)"
     },
     "execution_count": 9,
     "metadata": {},
     "output_type": "execute_result"
    }
   ],
   "source": [
    "fitClusters_cao"
   ]
  },
  {
   "cell_type": "code",
   "execution_count": 10,
   "metadata": {},
   "outputs": [
    {
     "data": {
      "text/html": "<div>\n<style scoped>\n    .dataframe tbody tr th:only-of-type {\n        vertical-align: middle;\n    }\n\n    .dataframe tbody tr th {\n        vertical-align: top;\n    }\n\n    .dataframe thead th {\n        text-align: right;\n    }\n</style>\n<table border=\"1\" class=\"dataframe\">\n  <thead>\n    <tr style=\"text-align: right;\">\n      <th></th>\n      <th>0</th>\n      <th>1</th>\n      <th>2</th>\n    </tr>\n  </thead>\n  <tbody>\n    <tr>\n      <th>0</th>\n      <td>4.0</td>\n      <td>4.0</td>\n      <td>0.0</td>\n    </tr>\n    <tr>\n      <th>1</th>\n      <td>8.0</td>\n      <td>10.0</td>\n      <td>12.0</td>\n    </tr>\n  </tbody>\n</table>\n</div>",
      "text/plain": "     0     1     2\n0  4.0   4.0   0.0\n1  8.0  10.0  12.0"
     },
     "execution_count": 10,
     "metadata": {},
     "output_type": "execute_result"
    }
   ],
   "source": [
    "clusterCentroidsDf = pd.DataFrame(km_cao.cluster_centroids_)\n",
    "# clusterCentroidsDf.columns = data.columns\n",
    "clusterCentroidsDf"
   ]
  },
  {
   "cell_type": "code",
   "execution_count": 11,
   "metadata": {},
   "outputs": [
    {
     "data": {
      "text/html": "<div>\n<style scoped>\n    .dataframe tbody tr th:only-of-type {\n        vertical-align: middle;\n    }\n\n    .dataframe tbody tr th {\n        vertical-align: top;\n    }\n\n    .dataframe thead th {\n        text-align: right;\n    }\n</style>\n<table border=\"1\" class=\"dataframe\">\n  <thead>\n    <tr style=\"text-align: right;\">\n      <th></th>\n      <th>start_time</th>\n      <th>end_time</th>\n      <th>routine_info</th>\n    </tr>\n  </thead>\n  <tbody>\n    <tr>\n      <th>0</th>\n      <td>9</td>\n      <td>10</td>\n      <td>10,11,Bedroom Speaker ON 54%</td>\n    </tr>\n    <tr>\n      <th>1</th>\n      <td>17</td>\n      <td>19</td>\n      <td>17,18,Bathroom Faucet ON 17oz AC OFF</td>\n    </tr>\n  </tbody>\n</table>\n</div>",
      "text/plain": "  start_time end_time                          routine_info\n0          9       10          10,11,Bedroom Speaker ON 54%\n1         17       19  17,18,Bathroom Faucet ON 17oz AC OFF"
     },
     "execution_count": 11,
     "metadata": {},
     "output_type": "execute_result"
    }
   ],
   "source": [
    "result = pd.DataFrame(oe.inverse_transform(clusterCentroidsDf))\n",
    "result.columns = [\"start_time\",\"end_time\",\"routine_info\"]\n",
    "result"
   ]
  },
  {
   "cell_type": "code",
   "execution_count": 12,
   "metadata": {},
   "outputs": [
    {
     "data": {
      "text/html": "<div>\n<style scoped>\n    .dataframe tbody tr th:only-of-type {\n        vertical-align: middle;\n    }\n\n    .dataframe tbody tr th {\n        vertical-align: top;\n    }\n\n    .dataframe thead th {\n        text-align: right;\n    }\n</style>\n<table border=\"1\" class=\"dataframe\">\n  <thead>\n    <tr style=\"text-align: right;\">\n      <th></th>\n      <th>start_time</th>\n      <th>end_time</th>\n      <th>routine_info_1</th>\n      <th>routine_info_2</th>\n      <th>routine_info_3</th>\n    </tr>\n  </thead>\n  <tbody>\n    <tr>\n      <th>0</th>\n      <td>9</td>\n      <td>10</td>\n      <td>10</td>\n      <td>11</td>\n      <td>Bedroom Speaker ON 54%</td>\n    </tr>\n    <tr>\n      <th>1</th>\n      <td>17</td>\n      <td>19</td>\n      <td>17</td>\n      <td>18</td>\n      <td>Bathroom Faucet ON 17oz AC OFF</td>\n    </tr>\n  </tbody>\n</table>\n</div>",
      "text/plain": "  start_time end_time routine_info_1 routine_info_2  \\\n0          9       10             10             11   \n1         17       19             17             18   \n\n                   routine_info_3  \n0          Bedroom Speaker ON 54%  \n1  Bathroom Faucet ON 17oz AC OFF  "
     },
     "execution_count": 12,
     "metadata": {},
     "output_type": "execute_result"
    }
   ],
   "source": [
    "new = result[\"routine_info\"].str.split(\",\", expand = True)\n",
    "new.insert(0, \"start_time\", result[\"start_time\"], True)\n",
    "new.insert(1, \"end_time\", result[\"end_time\"], True)\n",
    "for i in range(0, 5):\n",
    "    new.rename(columns={i:'routine_info_'+str(i+1)},inplace=True)\n",
    "new.to_csv(\"predicted_routines.csv\", encoding = \"utf-8\", index=False)\n",
    "new\n"
   ]
  }
 ]
}